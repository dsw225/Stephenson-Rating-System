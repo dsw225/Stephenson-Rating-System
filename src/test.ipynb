{
 "cells": [
  {
   "cell_type": "markdown",
   "metadata": {},
   "source": [
    "<H1>Test Notebook for Stephenson System</H1>"
   ]
  },
  {
   "cell_type": "code",
   "execution_count": 30,
   "metadata": {},
   "outputs": [],
   "source": [
    "import pyreadr\n",
    "import pandas as pd\n",
    "import numpy as np\n",
    "import datetime\n",
    "import time\n",
    "import copy\n",
    "from stephenson import *"
   ]
  },
  {
   "cell_type": "markdown",
   "metadata": {},
   "source": [
    "Read R file and convert to pandas df"
   ]
  },
  {
   "cell_type": "code",
   "execution_count": 31,
   "metadata": {},
   "outputs": [
    {
     "data": {
      "text/html": [
       "<div>\n",
       "<style scoped>\n",
       "    .dataframe tbody tr th:only-of-type {\n",
       "        vertical-align: middle;\n",
       "    }\n",
       "\n",
       "    .dataframe tbody tr th {\n",
       "        vertical-align: top;\n",
       "    }\n",
       "\n",
       "    .dataframe thead th {\n",
       "        text-align: right;\n",
       "    }\n",
       "</style>\n",
       "<table border=\"1\" class=\"dataframe\">\n",
       "  <thead>\n",
       "    <tr style=\"text-align: right;\">\n",
       "      <th></th>\n",
       "      <th>Date</th>\n",
       "      <th>Week</th>\n",
       "      <th>HomeTeam</th>\n",
       "      <th>AwayTeam</th>\n",
       "      <th>HomeScore</th>\n",
       "      <th>AwayScore</th>\n",
       "      <th>Score</th>\n",
       "      <th>HomeOdds</th>\n",
       "      <th>AwayOdds</th>\n",
       "    </tr>\n",
       "  </thead>\n",
       "  <tbody>\n",
       "    <tr>\n",
       "      <th>0</th>\n",
       "      <td>2009-03-26</td>\n",
       "      <td>1.0</td>\n",
       "      <td>Richmond Tigers</td>\n",
       "      <td>Carlton Blues</td>\n",
       "      <td>67</td>\n",
       "      <td>150</td>\n",
       "      <td>0.0</td>\n",
       "      <td>NaN</td>\n",
       "      <td>NaN</td>\n",
       "    </tr>\n",
       "    <tr>\n",
       "      <th>1</th>\n",
       "      <td>2009-03-27</td>\n",
       "      <td>1.0</td>\n",
       "      <td>Hawthorn Hawks</td>\n",
       "      <td>Geelong Cats</td>\n",
       "      <td>103</td>\n",
       "      <td>111</td>\n",
       "      <td>0.0</td>\n",
       "      <td>NaN</td>\n",
       "      <td>NaN</td>\n",
       "    </tr>\n",
       "    <tr>\n",
       "      <th>2</th>\n",
       "      <td>2009-03-28</td>\n",
       "      <td>1.0</td>\n",
       "      <td>Collingwood Magpies</td>\n",
       "      <td>Adelaide Crows</td>\n",
       "      <td>86</td>\n",
       "      <td>90</td>\n",
       "      <td>0.0</td>\n",
       "      <td>NaN</td>\n",
       "      <td>NaN</td>\n",
       "    </tr>\n",
       "    <tr>\n",
       "      <th>3</th>\n",
       "      <td>2009-03-28</td>\n",
       "      <td>1.0</td>\n",
       "      <td>Brisbane Lions</td>\n",
       "      <td>West Coast Eagles</td>\n",
       "      <td>95</td>\n",
       "      <td>86</td>\n",
       "      <td>1.0</td>\n",
       "      <td>NaN</td>\n",
       "      <td>NaN</td>\n",
       "    </tr>\n",
       "    <tr>\n",
       "      <th>4</th>\n",
       "      <td>2009-03-28</td>\n",
       "      <td>1.0</td>\n",
       "      <td>St Kilda Saints</td>\n",
       "      <td>Sydney Swans</td>\n",
       "      <td>80</td>\n",
       "      <td>65</td>\n",
       "      <td>1.0</td>\n",
       "      <td>NaN</td>\n",
       "      <td>NaN</td>\n",
       "    </tr>\n",
       "  </tbody>\n",
       "</table>\n",
       "</div>"
      ],
      "text/plain": [
       "         Date  Week             HomeTeam           AwayTeam  HomeScore  \\\n",
       "0  2009-03-26   1.0      Richmond Tigers      Carlton Blues         67   \n",
       "1  2009-03-27   1.0       Hawthorn Hawks       Geelong Cats        103   \n",
       "2  2009-03-28   1.0  Collingwood Magpies     Adelaide Crows         86   \n",
       "3  2009-03-28   1.0       Brisbane Lions  West Coast Eagles         95   \n",
       "4  2009-03-28   1.0      St Kilda Saints       Sydney Swans         80   \n",
       "\n",
       "   AwayScore  Score  HomeOdds  AwayOdds  \n",
       "0        150    0.0       NaN       NaN  \n",
       "1        111    0.0       NaN       NaN  \n",
       "2         90    0.0       NaN       NaN  \n",
       "3         86    1.0       NaN       NaN  \n",
       "4         65    1.0       NaN       NaN  "
      ]
     },
     "execution_count": 31,
     "metadata": {},
     "output_type": "execute_result"
    }
   ],
   "source": [
    "result = pyreadr.read_r('../data/aflodds.rda')\n",
    "r_df = list(result.values())[0]\n",
    "df = pd.DataFrame(r_df)\n",
    "df.head()"
   ]
  },
  {
   "cell_type": "markdown",
   "metadata": {},
   "source": [
    "From there select week one outcomes, and create a dataframe of teams and their respective stephenson ratings"
   ]
  },
  {
   "cell_type": "code",
   "execution_count": 32,
   "metadata": {},
   "outputs": [
    {
     "data": {
      "text/html": [
       "<div>\n",
       "<style scoped>\n",
       "    .dataframe tbody tr th:only-of-type {\n",
       "        vertical-align: middle;\n",
       "    }\n",
       "\n",
       "    .dataframe tbody tr th {\n",
       "        vertical-align: top;\n",
       "    }\n",
       "\n",
       "    .dataframe thead th {\n",
       "        text-align: right;\n",
       "    }\n",
       "</style>\n",
       "<table border=\"1\" class=\"dataframe\">\n",
       "  <thead>\n",
       "    <tr style=\"text-align: right;\">\n",
       "      <th></th>\n",
       "      <th>team</th>\n",
       "      <th>steph_rating</th>\n",
       "    </tr>\n",
       "  </thead>\n",
       "  <tbody>\n",
       "    <tr>\n",
       "      <th>0</th>\n",
       "      <td>Richmond Tigers</td>\n",
       "      <td>&lt;stephenson.Stephenson object at 0x12dfefb00&gt;</td>\n",
       "    </tr>\n",
       "    <tr>\n",
       "      <th>1</th>\n",
       "      <td>Hawthorn Hawks</td>\n",
       "      <td>&lt;stephenson.Stephenson object at 0x12dfecf20&gt;</td>\n",
       "    </tr>\n",
       "    <tr>\n",
       "      <th>2</th>\n",
       "      <td>Collingwood Magpies</td>\n",
       "      <td>&lt;stephenson.Stephenson object at 0x12dfed040&gt;</td>\n",
       "    </tr>\n",
       "    <tr>\n",
       "      <th>3</th>\n",
       "      <td>Brisbane Lions</td>\n",
       "      <td>&lt;stephenson.Stephenson object at 0x12dfef3e0&gt;</td>\n",
       "    </tr>\n",
       "    <tr>\n",
       "      <th>4</th>\n",
       "      <td>St Kilda Saints</td>\n",
       "      <td>&lt;stephenson.Stephenson object at 0x12dff5910&gt;</td>\n",
       "    </tr>\n",
       "  </tbody>\n",
       "</table>\n",
       "</div>"
      ],
      "text/plain": [
       "                  team                                   steph_rating\n",
       "0      Richmond Tigers  <stephenson.Stephenson object at 0x12dfefb00>\n",
       "1       Hawthorn Hawks  <stephenson.Stephenson object at 0x12dfecf20>\n",
       "2  Collingwood Magpies  <stephenson.Stephenson object at 0x12dfed040>\n",
       "3       Brisbane Lions  <stephenson.Stephenson object at 0x12dfef3e0>\n",
       "4      St Kilda Saints  <stephenson.Stephenson object at 0x12dff5910>"
      ]
     },
     "execution_count": 32,
     "metadata": {},
     "output_type": "execute_result"
    }
   ],
   "source": [
    "weeks = df[(df['Week'] <= 12.0)]\n",
    "\n",
    "combined_teams = pd.concat([weeks['HomeTeam'], weeks['AwayTeam']]) \n",
    "all_teams = combined_teams.drop_duplicates().tolist()\n",
    "\n",
    "team_data = {\n",
    "    'team': all_teams,   \n",
    "    'steph_rating': [Stephenson() for _ in all_teams],\n",
    "}\n",
    "df_team = pd.DataFrame(team_data)\n",
    "df_team.head()"
   ]
  },
  {
   "cell_type": "markdown",
   "metadata": {},
   "source": [
    "Since this is the first outcomes for each team, we don't have a need to update the variance prior to the matchup, however, if this was any other time, uncomment the updateVar with relevant dates. -- Make sure to adjust the rating period to one that suits your system. From there we will adjust the ratings based on the outcome 1 for win 0 for loos .5 for tie. We clone the home rating so when we calculate the away rating we don't use the updated home rating. Then we assign these new ratings to the df"
   ]
  },
  {
   "cell_type": "code",
   "execution_count": null,
   "metadata": {},
   "outputs": [
    {
     "name": "stdout",
     "output_type": "stream",
     "text": [
      "Week 1.0\n",
      "Week 2.0\n",
      "Week 3.0\n",
      "Week 4.0\n",
      "Week 5.0\n",
      "Week 6.0\n",
      "Week 7.0\n",
      "Week 8.0\n",
      "Week 9.0\n",
      "Week 10.0\n",
      "Week 11.0\n",
      "Week 12.0\n"
     ]
    }
   ],
   "source": [
    "for week, week_df in weeks.groupby('Week'):\n",
    "    # print(f\"Week {week}\")\n",
    "    for index, row in week_df.iterrows():\n",
    "        home_rating = df_team.loc[df_team['team'] == row['HomeTeam'], 'steph_rating'].values[0]\n",
    "        away_rating = df_team.loc[df_team['team'] == row['AwayTeam'], 'steph_rating'].values[0]\n",
    "\n",
    "        #Replacing updateVal since this is not by date but by week 10^2 = 100 (cval)\n",
    "        home_rating.sigma = home_rating.sigma + 100\n",
    "        away_rating.sigma = away_rating.sigma + 100\n",
    "\n",
    "        # So we don't evaluate on outcome\n",
    "        home_clone = copy.deepcopy(home_rating)\n",
    "\n",
    "        home_rating.newVarRating(away_rating, row['Score'], 1) #pone is 1 for home team - since default gamma is 0 this is irrelevant\n",
    "        away_rating.newVarRating(home_clone, (1 - row['Score']), 0) \n",
    "\n",
    "        df_team.loc[df_team['team'] == row['HomeTeam'], 'steph_rating'] = home_rating\n",
    "        df_team.loc[df_team['team'] == row['AwayTeam'], 'steph_rating'] = away_rating"
   ]
  },
  {
   "cell_type": "markdown",
   "metadata": {},
   "source": [
    "Finally just a test print to show that it returns same results as in R."
   ]
  },
  {
   "cell_type": "code",
   "execution_count": 34,
   "metadata": {},
   "outputs": [
    {
     "name": "stdout",
     "output_type": "stream",
     "text": [
      "Richmond Tigers: Rating: 2034.775979625707 Deviation: 126.77282448987641\n",
      "Hawthorn Hawks: Rating: 2202.662500420687 Deviation: 117.0812173422675\n",
      "Collingwood Magpies: Rating: 2225.6291469613225 Deviation: 123.25442062398865\n",
      "Brisbane Lions: Rating: 2291.3948426943807 Deviation: 119.26363716004963\n",
      "St Kilda Saints: Rating: 2592.0674606569096 Deviation: 142.74260172410345\n",
      "Melbourne Demons: Rating: 1909.5491712911846 Deviation: 139.2051565455552\n",
      "Port Adelaide Power: Rating: 2132.837013035284 Deviation: 118.50036544417276\n",
      "Fremantle Dockers: Rating: 2012.1296362236876 Deviation: 124.94252513010751\n",
      "Adelaide Crows: Rating: 2277.020478115515 Deviation: 115.58151788535875\n",
      "Geelong Cats: Rating: 2555.2882249795753 Deviation: 145.6526818926217\n",
      "Carlton Blues: Rating: 2215.1123766821775 Deviation: 118.57448824802964\n",
      "Sydney Swans: Rating: 2158.992904743084 Deviation: 121.60371574752281\n",
      "Essendon Bombers: Rating: 2198.244240667883 Deviation: 126.86098827732206\n",
      "Western Bulldogs: Rating: 2325.5452602666605 Deviation: 125.1569967945735\n",
      "West Coast Eagles: Rating: 1979.2791268535784 Deviation: 121.81219489944371\n",
      "North Melbourne Kangaroos: Rating: 2120.4289990917214 Deviation: 125.65182238815187\n"
     ]
    }
   ],
   "source": [
    "for index, row in df_team.iterrows():\n",
    "    print(f\"{row['team']}:\", end=\" \")\n",
    "    row['steph_rating'].printVals()"
   ]
  }
 ],
 "metadata": {
  "kernelspec": {
   "display_name": "base",
   "language": "python",
   "name": "python3"
  },
  "language_info": {
   "codemirror_mode": {
    "name": "ipython",
    "version": 3
   },
   "file_extension": ".py",
   "mimetype": "text/x-python",
   "name": "python",
   "nbconvert_exporter": "python",
   "pygments_lexer": "ipython3",
   "version": "3.12.4"
  }
 },
 "nbformat": 4,
 "nbformat_minor": 2
}
