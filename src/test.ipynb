{
 "cells": [
  {
   "cell_type": "markdown",
   "metadata": {},
   "source": [
    "<H1>Test Notebook for Stephenson System</H1>"
   ]
  },
  {
   "cell_type": "code",
   "execution_count": 1,
   "metadata": {},
   "outputs": [],
   "source": [
    "import pyreadr\n",
    "import pandas as pd\n",
    "import numpy as np\n",
    "import datetime\n",
    "import time\n",
    "import copy\n",
    "from stephenson import *"
   ]
  },
  {
   "cell_type": "markdown",
   "metadata": {},
   "source": [
    "Read R file and convert to pandas df"
   ]
  },
  {
   "cell_type": "code",
   "execution_count": 2,
   "metadata": {},
   "outputs": [
    {
     "data": {
      "text/html": [
       "<div>\n",
       "<style scoped>\n",
       "    .dataframe tbody tr th:only-of-type {\n",
       "        vertical-align: middle;\n",
       "    }\n",
       "\n",
       "    .dataframe tbody tr th {\n",
       "        vertical-align: top;\n",
       "    }\n",
       "\n",
       "    .dataframe thead th {\n",
       "        text-align: right;\n",
       "    }\n",
       "</style>\n",
       "<table border=\"1\" class=\"dataframe\">\n",
       "  <thead>\n",
       "    <tr style=\"text-align: right;\">\n",
       "      <th></th>\n",
       "      <th>Date</th>\n",
       "      <th>Week</th>\n",
       "      <th>HomeTeam</th>\n",
       "      <th>AwayTeam</th>\n",
       "      <th>HomeScore</th>\n",
       "      <th>AwayScore</th>\n",
       "      <th>Score</th>\n",
       "      <th>HomeOdds</th>\n",
       "      <th>AwayOdds</th>\n",
       "    </tr>\n",
       "  </thead>\n",
       "  <tbody>\n",
       "    <tr>\n",
       "      <th>0</th>\n",
       "      <td>2009-03-26</td>\n",
       "      <td>1.0</td>\n",
       "      <td>Richmond Tigers</td>\n",
       "      <td>Carlton Blues</td>\n",
       "      <td>67</td>\n",
       "      <td>150</td>\n",
       "      <td>0.0</td>\n",
       "      <td>NaN</td>\n",
       "      <td>NaN</td>\n",
       "    </tr>\n",
       "    <tr>\n",
       "      <th>1</th>\n",
       "      <td>2009-03-27</td>\n",
       "      <td>1.0</td>\n",
       "      <td>Hawthorn Hawks</td>\n",
       "      <td>Geelong Cats</td>\n",
       "      <td>103</td>\n",
       "      <td>111</td>\n",
       "      <td>0.0</td>\n",
       "      <td>NaN</td>\n",
       "      <td>NaN</td>\n",
       "    </tr>\n",
       "    <tr>\n",
       "      <th>2</th>\n",
       "      <td>2009-03-28</td>\n",
       "      <td>1.0</td>\n",
       "      <td>Collingwood Magpies</td>\n",
       "      <td>Adelaide Crows</td>\n",
       "      <td>86</td>\n",
       "      <td>90</td>\n",
       "      <td>0.0</td>\n",
       "      <td>NaN</td>\n",
       "      <td>NaN</td>\n",
       "    </tr>\n",
       "    <tr>\n",
       "      <th>3</th>\n",
       "      <td>2009-03-28</td>\n",
       "      <td>1.0</td>\n",
       "      <td>Brisbane Lions</td>\n",
       "      <td>West Coast Eagles</td>\n",
       "      <td>95</td>\n",
       "      <td>86</td>\n",
       "      <td>1.0</td>\n",
       "      <td>NaN</td>\n",
       "      <td>NaN</td>\n",
       "    </tr>\n",
       "    <tr>\n",
       "      <th>4</th>\n",
       "      <td>2009-03-28</td>\n",
       "      <td>1.0</td>\n",
       "      <td>St Kilda Saints</td>\n",
       "      <td>Sydney Swans</td>\n",
       "      <td>80</td>\n",
       "      <td>65</td>\n",
       "      <td>1.0</td>\n",
       "      <td>NaN</td>\n",
       "      <td>NaN</td>\n",
       "    </tr>\n",
       "  </tbody>\n",
       "</table>\n",
       "</div>"
      ],
      "text/plain": [
       "         Date  Week             HomeTeam           AwayTeam  HomeScore  \\\n",
       "0  2009-03-26   1.0      Richmond Tigers      Carlton Blues         67   \n",
       "1  2009-03-27   1.0       Hawthorn Hawks       Geelong Cats        103   \n",
       "2  2009-03-28   1.0  Collingwood Magpies     Adelaide Crows         86   \n",
       "3  2009-03-28   1.0       Brisbane Lions  West Coast Eagles         95   \n",
       "4  2009-03-28   1.0      St Kilda Saints       Sydney Swans         80   \n",
       "\n",
       "   AwayScore  Score  HomeOdds  AwayOdds  \n",
       "0        150    0.0       NaN       NaN  \n",
       "1        111    0.0       NaN       NaN  \n",
       "2         90    0.0       NaN       NaN  \n",
       "3         86    1.0       NaN       NaN  \n",
       "4         65    1.0       NaN       NaN  "
      ]
     },
     "execution_count": 2,
     "metadata": {},
     "output_type": "execute_result"
    }
   ],
   "source": [
    "result = pyreadr.read_r('../data/aflodds.rda')\n",
    "r_df = list(result.values())[0]\n",
    "df = pd.DataFrame(r_df)\n",
    "df.head()"
   ]
  },
  {
   "cell_type": "markdown",
   "metadata": {},
   "source": [
    "From there select week one outcomes, and create a dataframe of teams and their respective stephenson ratings"
   ]
  },
  {
   "cell_type": "code",
   "execution_count": 3,
   "metadata": {},
   "outputs": [
    {
     "data": {
      "text/html": [
       "<div>\n",
       "<style scoped>\n",
       "    .dataframe tbody tr th:only-of-type {\n",
       "        vertical-align: middle;\n",
       "    }\n",
       "\n",
       "    .dataframe tbody tr th {\n",
       "        vertical-align: top;\n",
       "    }\n",
       "\n",
       "    .dataframe thead th {\n",
       "        text-align: right;\n",
       "    }\n",
       "</style>\n",
       "<table border=\"1\" class=\"dataframe\">\n",
       "  <thead>\n",
       "    <tr style=\"text-align: right;\">\n",
       "      <th></th>\n",
       "      <th>team</th>\n",
       "      <th>steph_rating</th>\n",
       "    </tr>\n",
       "  </thead>\n",
       "  <tbody>\n",
       "    <tr>\n",
       "      <th>0</th>\n",
       "      <td>Richmond Tigers</td>\n",
       "      <td>&lt;stephenson.Stephenson object at 0x13b2e07d0&gt;</td>\n",
       "    </tr>\n",
       "    <tr>\n",
       "      <th>1</th>\n",
       "      <td>Hawthorn Hawks</td>\n",
       "      <td>&lt;stephenson.Stephenson object at 0x13a6a8c20&gt;</td>\n",
       "    </tr>\n",
       "    <tr>\n",
       "      <th>2</th>\n",
       "      <td>Collingwood Magpies</td>\n",
       "      <td>&lt;stephenson.Stephenson object at 0x10ffe3560&gt;</td>\n",
       "    </tr>\n",
       "    <tr>\n",
       "      <th>3</th>\n",
       "      <td>Brisbane Lions</td>\n",
       "      <td>&lt;stephenson.Stephenson object at 0x13b2e05f0&gt;</td>\n",
       "    </tr>\n",
       "    <tr>\n",
       "      <th>4</th>\n",
       "      <td>St Kilda Saints</td>\n",
       "      <td>&lt;stephenson.Stephenson object at 0x13b2e0620&gt;</td>\n",
       "    </tr>\n",
       "  </tbody>\n",
       "</table>\n",
       "</div>"
      ],
      "text/plain": [
       "                  team                                   steph_rating\n",
       "0      Richmond Tigers  <stephenson.Stephenson object at 0x13b2e07d0>\n",
       "1       Hawthorn Hawks  <stephenson.Stephenson object at 0x13a6a8c20>\n",
       "2  Collingwood Magpies  <stephenson.Stephenson object at 0x10ffe3560>\n",
       "3       Brisbane Lions  <stephenson.Stephenson object at 0x13b2e05f0>\n",
       "4      St Kilda Saints  <stephenson.Stephenson object at 0x13b2e0620>"
      ]
     },
     "execution_count": 3,
     "metadata": {},
     "output_type": "execute_result"
    }
   ],
   "source": [
    "week_one = df[(df['Week'] == 1.0)]\n",
    "\n",
    "combined_teams = pd.concat([week_one['HomeTeam'], week_one['AwayTeam']]) \n",
    "all_teams = combined_teams.drop_duplicates().tolist()\n",
    "\n",
    "team_data = {\n",
    "    'team': all_teams,   \n",
    "    'steph_rating': [Stephenson() for _ in all_teams],\n",
    "}\n",
    "df = pd.DataFrame(team_data)\n",
    "df.head()"
   ]
  },
  {
   "cell_type": "markdown",
   "metadata": {},
   "source": [
    "Since this is the first outcomes for each team, we don't have a need to update the variance prior to the matchup, however, if this was any other time, uncomment the updateVar with relevant dates. -- Make sure to adjust the rating period to one that suits your system. From there we will adjust the ratings based on the outcome 1 for win 0 for loos .5 for tie. We clone the home rating so when we calculate the away rating we don't use the updated home rating. Then we assign these new ratings to the df"
   ]
  },
  {
   "cell_type": "code",
   "execution_count": 4,
   "metadata": {},
   "outputs": [],
   "source": [
    "for index, row in week_one.iterrows():\n",
    "    home_rating = df.loc[df['team'] == row['HomeTeam'], 'steph_rating'].values[0]\n",
    "    away_rating = df.loc[df['team'] == row['AwayTeam'], 'steph_rating'].values[0]\n",
    "\n",
    "    # Since this is only week one ignore as its first week\n",
    "    # home_rating.updateVar(i['Date'])\n",
    "    # away_rating.updateVar(i['Date'])\n",
    "\n",
    "    # So we don't evaluate on outcome\n",
    "    home_clone = copy.deepcopy(home_rating)\n",
    "\n",
    "    home_rating.newVarRating(away_rating, row['Score'], 1) #pone is 1 for home team - since default gamma is 0 this is irrelevant\n",
    "    away_rating.newVarRating(home_clone, (1 - row['Score']), 0) \n",
    "\n",
    "    df.loc[df['team'] == row['HomeTeam'], 'steph_rating'] = home_rating\n",
    "    df.loc[df['team'] == row['AwayTeam'], 'steph_rating'] = away_rating"
   ]
  },
  {
   "cell_type": "markdown",
   "metadata": {},
   "source": [
    "Finally just a test print to show that it returns same results as in R."
   ]
  },
  {
   "cell_type": "code",
   "execution_count": null,
   "metadata": {},
   "outputs": [
    {
     "name": "stdout",
     "output_type": "stream",
     "text": [
      "Richmond Tigers: Rating: 2065.0272976700026 Deviation: 254.4604126495977\n",
      "Hawthorn Hawks: Rating: 2065.0272976700026 Deviation: 254.4604126495977\n",
      "Collingwood Magpies: Rating: 2065.0272976700026 Deviation: 254.4604126495977\n",
      "Brisbane Lions: Rating: 2334.9727023299974 Deviation: 254.4604126495977\n",
      "St Kilda Saints: Rating: 2334.9727023299974 Deviation: 254.4604126495977\n",
      "Melbourne Demons: Rating: 2065.0272976700026 Deviation: 254.4604126495977\n",
      "Port Adelaide Power: Rating: 2334.9727023299974 Deviation: 254.4604126495977\n",
      "Fremantle Dockers: Rating: 2065.0272976700026 Deviation: 254.4604126495977\n",
      "Carlton Blues: Rating: 2334.9727023299974 Deviation: 254.4604126495977\n",
      "Geelong Cats: Rating: 2334.9727023299974 Deviation: 254.4604126495977\n",
      "Adelaide Crows: Rating: 2334.9727023299974 Deviation: 254.4604126495977\n",
      "West Coast Eagles: Rating: 2065.0272976700026 Deviation: 254.4604126495977\n",
      "Sydney Swans: Rating: 2065.0272976700026 Deviation: 254.4604126495977\n",
      "North Melbourne Kangaroos: Rating: 2334.9727023299974 Deviation: 254.4604126495977\n",
      "Essendon Bombers: Rating: 2065.0272976700026 Deviation: 254.4604126495977\n",
      "Western Bulldogs: Rating: 2334.9727023299974 Deviation: 254.4604126495977\n"
     ]
    }
   ],
   "source": [
    "for index, row in df.iterrows():\n",
    "    print(f\"{row['team']}:\", end=\" \")\n",
    "    row['steph_rating'].printVals()"
   ]
  }
 ],
 "metadata": {
  "kernelspec": {
   "display_name": "base",
   "language": "python",
   "name": "python3"
  },
  "language_info": {
   "codemirror_mode": {
    "name": "ipython",
    "version": 3
   },
   "file_extension": ".py",
   "mimetype": "text/x-python",
   "name": "python",
   "nbconvert_exporter": "python",
   "pygments_lexer": "ipython3",
   "version": "3.12.4"
  }
 },
 "nbformat": 4,
 "nbformat_minor": 2
}
